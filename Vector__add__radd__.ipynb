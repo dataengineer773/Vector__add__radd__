{
 "cells": [
  {
   "cell_type": "code",
   "execution_count": 1,
   "id": "62c6e9ef-bb31-40dc-b245-b59117745e92",
   "metadata": {},
   "outputs": [],
   "source": [
    "# inside the Vector class\n",
    "def __add__(self, other):\n",
    "    pairs = itertools.zip_longest(self, other, fillvalue=0.0)\n",
    "    return Vector(a + b for a, b in pairs)"
   ]
  },
  {
   "cell_type": "code",
   "execution_count": 2,
   "id": "573a451f-053d-43c3-a512-08213a15845b",
   "metadata": {},
   "outputs": [],
   "source": [
    "def __radd__(self, other):\n",
    "    return self + other"
   ]
  },
  {
   "cell_type": "code",
   "execution_count": 3,
   "id": "2374d5be-0ce3-48c4-b756-0feffa4601e7",
   "metadata": {},
   "outputs": [],
   "source": [
    "# If __radd__simply calls __add__.here is another way to achive the same effect\n",
    "def __add__(self, other):\n",
    "    pairs = itertools.zip_longest(self, other, fillvalue=0.0)\n",
    "    return Vector(a + b for a, b in pairs)\n",
    "\n",
    "    __radd__ = __add__"
   ]
  },
  {
   "cell_type": "code",
   "execution_count": null,
   "id": "91ee72fb-b7eb-44fe-858d-5c3572d9f36d",
   "metadata": {},
   "outputs": [],
   "source": []
  }
 ],
 "metadata": {
  "kernelspec": {
   "display_name": "Python 3 (ipykernel)",
   "language": "python",
   "name": "python3"
  },
  "language_info": {
   "codemirror_mode": {
    "name": "ipython",
    "version": 3
   },
   "file_extension": ".py",
   "mimetype": "text/x-python",
   "name": "python",
   "nbconvert_exporter": "python",
   "pygments_lexer": "ipython3",
   "version": "3.12.3"
  }
 },
 "nbformat": 4,
 "nbformat_minor": 5
}
